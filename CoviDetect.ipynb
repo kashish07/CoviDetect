{
 "cells": [
  {
   "cell_type": "code",
   "execution_count": 1,
   "metadata": {
    "colab": {
     "base_uri": "https://localhost:8080/"
    },
    "id": "RIzfIXK7uw-R",
    "outputId": "05c783a9-089a-4d78-9b32-9370cf91c43b"
   },
   "outputs": [
    {
     "name": "stdout",
     "output_type": "stream",
     "text": [
      "Mounted at /content/drive\n"
     ]
    }
   ],
   "source": [
    "from google.colab import drive\n",
    "drive.mount('/content/drive')"
   ]
  },
  {
   "cell_type": "code",
   "execution_count": 1,
   "metadata": {
    "colab": {
     "base_uri": "https://localhost:8080/"
    },
    "id": "XK2xV-6ulgS7",
    "outputId": "c89fa361-66a9-4e03-c644-7478d829c89f"
   },
   "outputs": [],
   "source": [
    "# !unrar x \"/content/drive/MyDrive/ML Datasets for colab/dataset.rar\" \"/content\""
   ]
  },
  {
   "cell_type": "code",
   "execution_count": 3,
   "metadata": {
    "id": "6YMeaTetlgS5"
   },
   "outputs": [],
   "source": [
    "trainpath = \"/content/dataset/train\"\n",
    "testpath = \"/content/dataset/test\""
   ]
  },
  {
   "cell_type": "code",
   "execution_count": 4,
   "metadata": {
    "id": "Ae4lWAYZlgS8",
    "scrolled": true
   },
   "outputs": [],
   "source": [
    "from keras.preprocessing.image import ImageDataGenerator"
   ]
  },
  {
   "cell_type": "code",
   "execution_count": 17,
   "metadata": {
    "colab": {
     "base_uri": "https://localhost:8080/"
    },
    "id": "RiM2n3qzlgS9",
    "outputId": "3f4500bb-7efc-419b-9feb-1a7d986516eb"
   },
   "outputs": [
    {
     "name": "stdout",
     "output_type": "stream",
     "text": [
      "Found 5744 images belonging to 2 classes.\n",
      "Found 1512 images belonging to 2 classes.\n"
     ]
    }
   ],
   "source": [
    "train_datagen = ImageDataGenerator(rescale = 1./255 , shear_range = 0.2 , zoom_range =0.2 , horizontal_flip = True)\n",
    "test_datagen = ImageDataGenerator(rescale = 1./255)\n",
    "training_set = train_datagen.flow_from_directory(trainpath , target_size = (224,224) , batch_size=32 , class_mode='categorical' , shuffle=True)\n",
    "test_set = test_datagen.flow_from_directory(testpath , target_size=(224,224) , batch_size=32, class_mode = 'categorical', shuffle=False , seed = 4)"
   ]
  },
  {
   "cell_type": "code",
   "execution_count": 6,
   "metadata": {
    "id": "mTbpE80AlgS-"
   },
   "outputs": [],
   "source": [
    "from keras.models import Sequential\n",
    "from keras.layers import Conv2D\n",
    "from keras.layers import MaxPool2D\n",
    "from keras.layers import Flatten\n",
    "from keras.layers import Dense\n",
    "from keras.layers import Dropout"
   ]
  },
  {
   "cell_type": "code",
   "execution_count": 7,
   "metadata": {
    "id": "jVlyZ9c5lgS_"
   },
   "outputs": [],
   "source": [
    "model = Sequential()\n",
    "model.add(Conv2D(filters = 64 , kernel_size=(3 , 3),  padding=\"same\", input_shape=(224,224,3), activation='relu'))\n",
    "model.add(Conv2D(filters=64 , kernel_size=(3,3), padding=\"same\", activation=\"relu\"))\n",
    "\n",
    "model.add(MaxPool2D(pool_size=(2,2),strides=(2,2)))\n",
    "model.add(Conv2D(filters=64, kernel_size=(3,3), padding=\"same\", activation=\"relu\"))\n",
    "model.add(Conv2D(filters=64, kernel_size=(3,3), padding=\"same\", activation=\"relu\"))\n",
    "model.add(MaxPool2D(pool_size=(2,2),strides=(2,2)))\n",
    "\n",
    "model.add(Conv2D(filters=64, kernel_size=(3,3), padding=\"same\", activation=\"relu\"))\n",
    "model.add(Conv2D(filters=64, kernel_size=(3,3), padding=\"same\", activation=\"relu\"))\n",
    "model.add(MaxPool2D(pool_size=(2,2),strides=(2,2)))\n",
    "\n",
    "\n",
    "model.add(Flatten())\n",
    "model.add(Dense(units= 512,activation=\"relu\"))\n",
    "model.add(Dropout(0.1))\n",
    "model.add(Dense(units=512,activation=\"relu\"))\n",
    "model.add(Dropout(0.1))\n",
    "model.add(Dense(units= 2, activation=\"softmax\"))\n",
    "\n",
    "\n",
    "\n",
    "model.compile(optimizer = 'adam' , loss = 'categorical_crossentropy' , metrics =['accuracy'])"
   ]
  },
  {
   "cell_type": "code",
   "execution_count": 9,
   "metadata": {
    "colab": {
     "base_uri": "https://localhost:8080/"
    },
    "id": "1nlxsZ5jlgTA",
    "outputId": "76599b7e-d9f4-4a63-d3b3-bbe0b3fa9de3"
   },
   "outputs": [
    {
     "name": "stdout",
     "output_type": "stream",
     "text": [
      "Model: \"sequential\"\n",
      "_________________________________________________________________\n",
      "Layer (type)                 Output Shape              Param #   \n",
      "=================================================================\n",
      "conv2d (Conv2D)              (None, 224, 224, 64)      1792      \n",
      "_________________________________________________________________\n",
      "conv2d_1 (Conv2D)            (None, 224, 224, 64)      36928     \n",
      "_________________________________________________________________\n",
      "max_pooling2d (MaxPooling2D) (None, 112, 112, 64)      0         \n",
      "_________________________________________________________________\n",
      "conv2d_2 (Conv2D)            (None, 112, 112, 64)      36928     \n",
      "_________________________________________________________________\n",
      "conv2d_3 (Conv2D)            (None, 112, 112, 64)      36928     \n",
      "_________________________________________________________________\n",
      "max_pooling2d_1 (MaxPooling2 (None, 56, 56, 64)        0         \n",
      "_________________________________________________________________\n",
      "conv2d_4 (Conv2D)            (None, 56, 56, 64)        36928     \n",
      "_________________________________________________________________\n",
      "conv2d_5 (Conv2D)            (None, 56, 56, 64)        36928     \n",
      "_________________________________________________________________\n",
      "max_pooling2d_2 (MaxPooling2 (None, 28, 28, 64)        0         \n",
      "_________________________________________________________________\n",
      "flatten (Flatten)            (None, 50176)             0         \n",
      "_________________________________________________________________\n",
      "dense (Dense)                (None, 512)               25690624  \n",
      "_________________________________________________________________\n",
      "dropout (Dropout)            (None, 512)               0         \n",
      "_________________________________________________________________\n",
      "dense_1 (Dense)              (None, 512)               262656    \n",
      "_________________________________________________________________\n",
      "dropout_1 (Dropout)          (None, 512)               0         \n",
      "_________________________________________________________________\n",
      "dense_2 (Dense)              (None, 2)                 1026      \n",
      "=================================================================\n",
      "Total params: 26,140,738\n",
      "Trainable params: 26,140,738\n",
      "Non-trainable params: 0\n",
      "_________________________________________________________________\n"
     ]
    }
   ],
   "source": [
    "model.summary()"
   ]
  },
  {
   "cell_type": "code",
   "execution_count": 10,
   "metadata": {
    "colab": {
     "base_uri": "https://localhost:8080/"
    },
    "id": "1TBqsYO8lgTA",
    "outputId": "a69e346d-fa5a-42be-e9b7-276d1364e189"
   },
   "outputs": [
    {
     "name": "stdout",
     "output_type": "stream",
     "text": [
      "Epoch 1/50\n",
      "100/100 [==============================] - 107s 586ms/step - loss: 1.0828 - accuracy: 0.5140 - val_loss: 0.6928 - val_accuracy: 0.5138\n",
      "Epoch 2/50\n",
      "100/100 [==============================] - 57s 565ms/step - loss: 0.6846 - accuracy: 0.5446 - val_loss: 0.6880 - val_accuracy: 0.5900\n",
      "Epoch 3/50\n",
      "100/100 [==============================] - 56s 558ms/step - loss: 0.6717 - accuracy: 0.5936 - val_loss: 0.6529 - val_accuracy: 0.6000\n",
      "Epoch 4/50\n",
      "100/100 [==============================] - 56s 553ms/step - loss: 0.6239 - accuracy: 0.6549 - val_loss: 0.6509 - val_accuracy: 0.6225\n",
      "Epoch 5/50\n",
      "100/100 [==============================] - 56s 557ms/step - loss: 0.6020 - accuracy: 0.6681 - val_loss: 0.5324 - val_accuracy: 0.7450\n",
      "Epoch 6/50\n",
      "100/100 [==============================] - 56s 559ms/step - loss: 0.5326 - accuracy: 0.7318 - val_loss: 0.4301 - val_accuracy: 0.8125\n",
      "Epoch 7/50\n",
      "100/100 [==============================] - 56s 558ms/step - loss: 0.4696 - accuracy: 0.7745 - val_loss: 0.4627 - val_accuracy: 0.7763\n",
      "Epoch 8/50\n",
      "100/100 [==============================] - 56s 562ms/step - loss: 0.4262 - accuracy: 0.8031 - val_loss: 0.3387 - val_accuracy: 0.8662\n",
      "Epoch 9/50\n",
      "100/100 [==============================] - 56s 557ms/step - loss: 0.3998 - accuracy: 0.8135 - val_loss: 0.3581 - val_accuracy: 0.8500\n",
      "Epoch 10/50\n",
      "100/100 [==============================] - 56s 559ms/step - loss: 0.4010 - accuracy: 0.8241 - val_loss: 0.3394 - val_accuracy: 0.8700\n",
      "Epoch 11/50\n",
      "100/100 [==============================] - 56s 554ms/step - loss: 0.3389 - accuracy: 0.8551 - val_loss: 0.2991 - val_accuracy: 0.8763\n",
      "Epoch 12/50\n",
      "100/100 [==============================] - 56s 558ms/step - loss: 0.3226 - accuracy: 0.8676 - val_loss: 0.3467 - val_accuracy: 0.8500\n",
      "Epoch 13/50\n",
      "100/100 [==============================] - 56s 558ms/step - loss: 0.3185 - accuracy: 0.8581 - val_loss: 0.2379 - val_accuracy: 0.9062\n",
      "Epoch 14/50\n",
      "100/100 [==============================] - 56s 561ms/step - loss: 0.3039 - accuracy: 0.8685 - val_loss: 0.2606 - val_accuracy: 0.8925\n",
      "Epoch 15/50\n",
      "100/100 [==============================] - 56s 556ms/step - loss: 0.2697 - accuracy: 0.8797 - val_loss: 0.3452 - val_accuracy: 0.8250\n",
      "Epoch 16/50\n",
      "100/100 [==============================] - 56s 562ms/step - loss: 0.2778 - accuracy: 0.8773 - val_loss: 0.2451 - val_accuracy: 0.9013\n",
      "Epoch 17/50\n",
      "100/100 [==============================] - 56s 559ms/step - loss: 0.2637 - accuracy: 0.8984 - val_loss: 0.2160 - val_accuracy: 0.9212\n",
      "Epoch 18/50\n",
      "100/100 [==============================] - 56s 554ms/step - loss: 0.2654 - accuracy: 0.8992 - val_loss: 0.2570 - val_accuracy: 0.8938\n",
      "Epoch 19/50\n",
      "100/100 [==============================] - 56s 554ms/step - loss: 0.2321 - accuracy: 0.9012 - val_loss: 0.1520 - val_accuracy: 0.9425\n",
      "Epoch 20/50\n",
      "100/100 [==============================] - 55s 550ms/step - loss: 0.2040 - accuracy: 0.9203 - val_loss: 0.2414 - val_accuracy: 0.9013\n",
      "Epoch 21/50\n",
      "100/100 [==============================] - 55s 551ms/step - loss: 0.2276 - accuracy: 0.9060 - val_loss: 0.1959 - val_accuracy: 0.9275\n",
      "Epoch 22/50\n",
      "100/100 [==============================] - 56s 555ms/step - loss: 0.1885 - accuracy: 0.9244 - val_loss: 0.2071 - val_accuracy: 0.9200\n",
      "Epoch 23/50\n",
      "100/100 [==============================] - 56s 555ms/step - loss: 0.2069 - accuracy: 0.9213 - val_loss: 0.2401 - val_accuracy: 0.9125\n",
      "Epoch 24/50\n",
      "100/100 [==============================] - 56s 562ms/step - loss: 0.2208 - accuracy: 0.9100 - val_loss: 0.2017 - val_accuracy: 0.9237\n",
      "Epoch 25/50\n",
      "100/100 [==============================] - 56s 561ms/step - loss: 0.1667 - accuracy: 0.9428 - val_loss: 0.1676 - val_accuracy: 0.9388\n",
      "Epoch 26/50\n",
      "100/100 [==============================] - 57s 565ms/step - loss: 0.1982 - accuracy: 0.9276 - val_loss: 0.1907 - val_accuracy: 0.9325\n",
      "Epoch 27/50\n",
      "100/100 [==============================] - 56s 562ms/step - loss: 0.1682 - accuracy: 0.9330 - val_loss: 0.1940 - val_accuracy: 0.9300\n",
      "Epoch 28/50\n",
      "100/100 [==============================] - 56s 560ms/step - loss: 0.1722 - accuracy: 0.9308 - val_loss: 0.2214 - val_accuracy: 0.9175\n",
      "Epoch 29/50\n",
      "100/100 [==============================] - 56s 562ms/step - loss: 0.2118 - accuracy: 0.9156 - val_loss: 0.2147 - val_accuracy: 0.9150\n",
      "Epoch 30/50\n",
      "100/100 [==============================] - 56s 562ms/step - loss: 0.1828 - accuracy: 0.9267 - val_loss: 0.1479 - val_accuracy: 0.9550\n",
      "Epoch 31/50\n",
      "100/100 [==============================] - 56s 560ms/step - loss: 0.1653 - accuracy: 0.9338 - val_loss: 0.1589 - val_accuracy: 0.9375\n",
      "Epoch 32/50\n",
      "100/100 [==============================] - 56s 559ms/step - loss: 0.1342 - accuracy: 0.9588 - val_loss: 0.1726 - val_accuracy: 0.9425\n",
      "Epoch 33/50\n",
      "100/100 [==============================] - 56s 554ms/step - loss: 0.1762 - accuracy: 0.9295 - val_loss: 0.2312 - val_accuracy: 0.9237\n",
      "Epoch 34/50\n",
      "100/100 [==============================] - 57s 565ms/step - loss: 0.1687 - accuracy: 0.9339 - val_loss: 0.1143 - val_accuracy: 0.9650\n",
      "Epoch 35/50\n",
      "100/100 [==============================] - 56s 562ms/step - loss: 0.1423 - accuracy: 0.9434 - val_loss: 0.2352 - val_accuracy: 0.9225\n",
      "Epoch 36/50\n",
      "100/100 [==============================] - 56s 557ms/step - loss: 0.1449 - accuracy: 0.9420 - val_loss: 0.1698 - val_accuracy: 0.9287\n",
      "Epoch 37/50\n",
      "100/100 [==============================] - 56s 553ms/step - loss: 0.1479 - accuracy: 0.9419 - val_loss: 0.1202 - val_accuracy: 0.9600\n",
      "Epoch 38/50\n",
      "100/100 [==============================] - 56s 554ms/step - loss: 0.1143 - accuracy: 0.9573 - val_loss: 0.1444 - val_accuracy: 0.9538\n",
      "Epoch 39/50\n",
      "100/100 [==============================] - 56s 554ms/step - loss: 0.1293 - accuracy: 0.9544 - val_loss: 0.1149 - val_accuracy: 0.9525\n",
      "Epoch 40/50\n",
      "100/100 [==============================] - 56s 557ms/step - loss: 0.1235 - accuracy: 0.9513 - val_loss: 0.1931 - val_accuracy: 0.9375\n",
      "Epoch 41/50\n",
      "100/100 [==============================] - 56s 557ms/step - loss: 0.1424 - accuracy: 0.9443 - val_loss: 0.3016 - val_accuracy: 0.9200\n",
      "Epoch 42/50\n",
      "100/100 [==============================] - 56s 555ms/step - loss: 0.1391 - accuracy: 0.9454 - val_loss: 0.1368 - val_accuracy: 0.9613\n",
      "Epoch 43/50\n",
      "100/100 [==============================] - 55s 550ms/step - loss: 0.1089 - accuracy: 0.9620 - val_loss: 0.1150 - val_accuracy: 0.9600\n",
      "Epoch 44/50\n",
      "100/100 [==============================] - 55s 550ms/step - loss: 0.1079 - accuracy: 0.9614 - val_loss: 0.1029 - val_accuracy: 0.9675\n",
      "Epoch 45/50\n",
      "100/100 [==============================] - 56s 556ms/step - loss: 0.1032 - accuracy: 0.9634 - val_loss: 0.1710 - val_accuracy: 0.9488\n",
      "Epoch 46/50\n",
      "100/100 [==============================] - 55s 550ms/step - loss: 0.1357 - accuracy: 0.9503 - val_loss: 0.1741 - val_accuracy: 0.9488\n",
      "Epoch 47/50\n",
      "100/100 [==============================] - 56s 556ms/step - loss: 0.1461 - accuracy: 0.9480 - val_loss: 0.1420 - val_accuracy: 0.9550\n",
      "Epoch 48/50\n",
      "100/100 [==============================] - 55s 553ms/step - loss: 0.0955 - accuracy: 0.9640 - val_loss: 0.1320 - val_accuracy: 0.9600\n",
      "Epoch 49/50\n",
      "100/100 [==============================] - 56s 557ms/step - loss: 0.1148 - accuracy: 0.9553 - val_loss: 0.1355 - val_accuracy: 0.9712\n",
      "Epoch 50/50\n",
      "100/100 [==============================] - 56s 556ms/step - loss: 0.0997 - accuracy: 0.9607 - val_loss: 0.1563 - val_accuracy: 0.9563\n"
     ]
    }
   ],
   "source": [
    " history = model.fit(training_set, steps_per_epoch = 100, epochs = 50, validation_data = test_set, validation_steps = 25 )"
   ]
  },
  {
   "cell_type": "code",
   "execution_count": 11,
   "metadata": {
    "id": "6vcCUgqRlgTA"
   },
   "outputs": [],
   "source": [
    "model.save(\"/content/model.h5\")"
   ]
  },
  {
   "cell_type": "code",
   "execution_count": 13,
   "metadata": {
    "id": "OpUr4TH9jJRF"
   },
   "outputs": [],
   "source": [
    "import keras\n",
    "path = \"/content/model.h5\"\n",
    "model2 = keras.models.load_model(path)"
   ]
  },
  {
   "cell_type": "code",
   "execution_count": null,
   "metadata": {
    "colab": {
     "base_uri": "https://localhost:8080/"
    },
    "id": "3Q-8d8VCvLhX",
    "outputId": "f70896e8-a071-4a6b-c90a-ec072843b7d6"
   },
   "outputs": [
    {
     "name": "stdout",
     "output_type": "stream",
     "text": [
      "Found 2424 images belonging to 3 classes.\n"
     ]
    }
   ],
   "source": []
  },
  {
   "cell_type": "code",
   "execution_count": null,
   "metadata": {
    "id": "G7le-mAnAghV"
   },
   "outputs": [],
   "source": []
  },
  {
   "cell_type": "code",
   "execution_count": 18,
   "metadata": {
    "id": "8uTu0f8zAgm_"
   },
   "outputs": [],
   "source": [
    "def evaluate_model(model, generator, nBatches):\n",
    "    score = model.evaluate_generator(generator=generator,               # Generator yielding tuples\n",
    "                                     steps=generator.samples//nBatches, # number of steps (batches of samples) to yield from generator before stopping\n",
    "                                     max_queue_size=10,                 # maximum size for the generator queue\n",
    "                                     workers=1,                         # maximum number of processes to spin up when using process based threading\n",
    "                                     use_multiprocessing=False,         # whether to use process-based threading\n",
    "                                     verbose=0)\n",
    "    print(\"loss: %.3f - acc: %.3f\" % (score[0], score[1]))"
   ]
  },
  {
   "cell_type": "code",
   "execution_count": 20,
   "metadata": {
    "colab": {
     "base_uri": "https://localhost:8080/"
    },
    "id": "ld81S-E0AgsS",
    "outputId": "ec2bd316-481b-4957-d1ed-7e9364330d8e"
   },
   "outputs": [
    {
     "name": "stderr",
     "output_type": "stream",
     "text": [
      "/usr/local/lib/python3.7/dist-packages/keras/engine/training.py:1948: UserWarning: `Model.evaluate_generator` is deprecated and will be removed in a future version. Please use `Model.evaluate`, which supports generators.\n",
      "  warnings.warn('`Model.evaluate_generator` is deprecated and '\n"
     ]
    },
    {
     "name": "stdout",
     "output_type": "stream",
     "text": [
      "loss: 0.137 - acc: 0.960\n"
     ]
    }
   ],
   "source": [
    "evaluate_model(model , test_set, 32)"
   ]
  },
  {
   "cell_type": "code",
   "execution_count": 21,
   "metadata": {
    "colab": {
     "base_uri": "https://localhost:8080/"
    },
    "id": "f4wIH2HxvLq7",
    "outputId": "6b908a72-d849-4f30-ab29-d49e37f6f4ea"
   },
   "outputs": [
    {
     "name": "stdout",
     "output_type": "stream",
     "text": [
      "[0 0 0 ... 1 1 1]\n"
     ]
    }
   ],
   "source": [
    "ytest = test_set.classes[test_set.index_array]\n",
    "print(ytest)"
   ]
  },
  {
   "cell_type": "code",
   "execution_count": 15,
   "metadata": {
    "id": "jL41M__lvL9U"
   },
   "outputs": [],
   "source": []
  },
  {
   "cell_type": "code",
   "execution_count": 28,
   "metadata": {
    "id": "OpVe76YlCAh0"
   },
   "outputs": [],
   "source": [
    "def evaluate_predictions(model, generator, nBatches):\n",
    "    predictions = model.predict_generator(generator=generator,\n",
    "                                    steps=generator.samples/nBatches,\n",
    "                                    max_queue_size=10,\n",
    "                                    workers=0,\n",
    "                                    use_multiprocessing=False,\n",
    "                                    verbose=0)\n",
    "\n",
    "    # Evaluate predictions\n",
    "    predictedClass = np.argmax(predictions, axis=1)\n",
    "    trueClass = generator.classes[generator.index_array]\n",
    "    classLabels = list(generator.class_indices.keys())\n",
    "\n",
    "    # Create confusion matrix\n",
    "    confusionMatrix = (confusion_matrix(\n",
    "        y_true=trueClass,                                       # ground truth (correct) target values\n",
    "        y_pred=predictedClass))                                 # estimated targets as returned by a classifier\n",
    "    print(confusionMatrix)\n",
    "    target_names = [\"Covid\" , \"Normal\"]\n",
    "    print(classification_report(generator.classes, predictedClass, target_names=target_names))"
   ]
  },
  {
   "cell_type": "markdown",
   "metadata": {
    "id": "-PUJwXc5B_bz"
   },
   "source": []
  },
  {
   "cell_type": "code",
   "execution_count": 29,
   "metadata": {
    "colab": {
     "base_uri": "https://localhost:8080/"
    },
    "id": "Us9DE0EOvL_q",
    "outputId": "9f8b852d-d5fa-4a32-ed8f-f05d8951ecb1"
   },
   "outputs": [
    {
     "name": "stderr",
     "output_type": "stream",
     "text": [
      "/usr/local/lib/python3.7/dist-packages/keras/engine/training.py:1976: UserWarning: `Model.predict_generator` is deprecated and will be removed in a future version. Please use `Model.predict`, which supports generators.\n",
      "  warnings.warn('`Model.predict_generator` is deprecated and '\n"
     ]
    },
    {
     "name": "stdout",
     "output_type": "stream",
     "text": [
      "[[711  21]\n",
      " [ 39 741]]\n",
      "              precision    recall  f1-score   support\n",
      "\n",
      "       Covid       0.95      0.97      0.96       732\n",
      "      Normal       0.97      0.95      0.96       780\n",
      "\n",
      "    accuracy                           0.96      1512\n",
      "   macro avg       0.96      0.96      0.96      1512\n",
      "weighted avg       0.96      0.96      0.96      1512\n",
      "\n"
     ]
    }
   ],
   "source": [
    "from sklearn.metrics import confusion_matrix, classification_report\n",
    "evaluate_predictions(model , test_set, 32)"
   ]
  },
  {
   "cell_type": "code",
   "execution_count": null,
   "metadata": {
    "id": "oY2O1SYpJysh"
   },
   "outputs": [],
   "source": []
  },
  {
   "cell_type": "code",
   "execution_count": 32,
   "metadata": {
    "colab": {
     "base_uri": "https://localhost:8080/"
    },
    "id": "yBzg5e8sG1Ss",
    "outputId": "7e49c049-a840-4e70-b2a8-1c450bca51ac"
   },
   "outputs": [
    {
     "data": {
      "text/plain": [
       "keras.callbacks.History"
      ]
     },
     "execution_count": 32,
     "metadata": {
      "tags": []
     },
     "output_type": "execute_result"
    }
   ],
   "source": [
    "hist = history\n",
    "type(hist)"
   ]
  },
  {
   "cell_type": "code",
   "execution_count": 34,
   "metadata": {
    "id": "ZwtzAlcMG68q"
   },
   "outputs": [],
   "source": [
    "import matplotlib.pyplot as plt"
   ]
  },
  {
   "cell_type": "code",
   "execution_count": 36,
   "metadata": {
    "colab": {
     "base_uri": "https://localhost:8080/",
     "height": 295
    },
    "id": "PQLA-5zMGkK_",
    "outputId": "77b872ce-c2e9-4d41-80fc-9c6b476cc092"
   },
   "outputs": [
    {
     "data": {
      "image/png": "[encoded data removed]",
      "text/plain": [
       "<Figure size 432x288 with 1 Axes>"
      ]
     },
     "metadata": {
      "needs_background": "light",
      "tags": []
     },
     "output_type": "display_data"
    }
   ],
   "source": [
    "loss_train = hist.history['loss']\n",
    "loss_val = hist.history['val_loss']\n",
    "acc_val = hist.history['val_accuracy']\n",
    "acc_train = hist.history['accuracy']\n",
    "epochs = range(0,50)\n",
    "plt.plot(epochs, loss_train, 'g', label='Training loss')\n",
    "plt.plot(epochs, loss_val, 'b', label='validation loss')\n",
    "plt.plot(epochs, acc_val, 'r', label='validation accuracy')\n",
    "plt.plot(epochs, acc_train, 'y', label='Training accuracy')\n",
    "plt.title('Training and Validation loss')\n",
    "plt.xlabel('Epochs')\n",
    "plt.ylabel('Loss')\n",
    "plt.legend()\n",
    "plt.show()"
   ]
  },
  {
   "cell_type": "code",
   "execution_count": null,
   "metadata": {
    "id": "y18st97BGzFZ"
   },
   "outputs": [],
   "source": []
  },
  {
   "cell_type": "code",
   "execution_count": null,
   "metadata": {},
   "outputs": [],
   "source": []
  },
  {
   "cell_type": "code",
   "execution_count": null,
   "metadata": {},
   "outputs": [],
   "source": []
  }
 ],
 "metadata": {
  "accelerator": "GPU",
  "colab": {
   "collapsed_sections": [],
   "name": "CoviDetect.ipynb",
   "provenance": []
  },
  "kernelspec": {
   "display_name": "Python 3",
   "language": "python",
   "name": "python3"
  },
  "language_info": {
   "codemirror_mode": {
    "name": "ipython",
    "version": 3
   },
   "file_extension": ".py",
   "mimetype": "text/x-python",
   "name": "python",
   "nbconvert_exporter": "python",
   "pygments_lexer": "ipython3",
   "version": "3.7.9"
  }
 },
 "nbformat": 4,
 "nbformat_minor": 1
}
